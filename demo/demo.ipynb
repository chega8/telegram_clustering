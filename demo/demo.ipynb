{
 "cells": [
  {
   "cell_type": "code",
   "execution_count": 1,
   "id": "a602eaa1",
   "metadata": {},
   "outputs": [],
   "source": [
    "%load_ext autoreload\n",
    "\n",
    "%autoreload 2"
   ]
  },
  {
   "cell_type": "code",
   "execution_count": 2,
   "id": "31d938a3",
   "metadata": {},
   "outputs": [],
   "source": [
    "import sys\n",
    "\n",
    "sys.path.append('.')"
   ]
  },
  {
   "cell_type": "code",
   "execution_count": 5,
   "id": "8b6c9be0",
   "metadata": {},
   "outputs": [],
   "source": [
    "import torch\n",
    "import pandas as pd\n",
    "import numpy as np"
   ]
  },
  {
   "cell_type": "code",
   "execution_count": null,
   "id": "2aa4bd9a",
   "metadata": {},
   "outputs": [],
   "source": [
    "from src.data import TelegramData\n",
    "from src.vectorize import vectorize_corpus\n",
    "from src.cluster import KMeansClusterizator\n",
    "from src.summary import get_cluster_summaries"
   ]
  },
  {
   "attachments": {},
   "cell_type": "markdown",
   "id": "6c7285b8",
   "metadata": {},
   "source": [
    "## EDA"
   ]
  },
  {
   "cell_type": "code",
   "execution_count": null,
   "id": "9b958c0b",
   "metadata": {},
   "outputs": [],
   "source": [
    "data = pd.read_csv('<DATASET>')\n",
    "data.head()"
   ]
  },
  {
   "cell_type": "code",
   "execution_count": 13,
   "id": "b2f64fc7",
   "metadata": {},
   "outputs": [],
   "source": [
    "class Dataset(TelegramData):\n",
    "    def __init__(self, source) -> None:\n",
    "        super().__init__(source)\n",
    "        self.data = pd.read_csv('<DATASET>')\n",
    "\n",
    "    def get_chunk(self) -> str:\n",
    "        ...\n",
    "        \n",
    "    def get_chunks(self):\n",
    "        return self.data['comment'].values.tolist()"
   ]
  },
  {
   "cell_type": "code",
   "execution_count": 14,
   "id": "30a5a5f3",
   "metadata": {},
   "outputs": [],
   "source": [
    "data = Dataset('')\n",
    "chunks = data.get_chunks()"
   ]
  },
  {
   "cell_type": "code",
   "execution_count": 15,
   "id": "d88faf3f",
   "metadata": {},
   "outputs": [
    {
     "data": {
      "text/plain": [
       "300"
      ]
     },
     "execution_count": 15,
     "metadata": {},
     "output_type": "execute_result"
    }
   ],
   "source": [
    "len(chunks)"
   ]
  },
  {
   "cell_type": "code",
   "execution_count": 16,
   "id": "ca07b068",
   "metadata": {},
   "outputs": [
    {
     "data": {
      "text/plain": [
       "'Очень долго доставляете !!!!!'"
      ]
     },
     "execution_count": 16,
     "metadata": {},
     "output_type": "execute_result"
    }
   ],
   "source": [
    "chunks[-1]"
   ]
  },
  {
   "cell_type": "code",
   "execution_count": 17,
   "id": "7d295150",
   "metadata": {},
   "outputs": [],
   "source": [
    "embeddings = vectorize_corpus(chunks)"
   ]
  },
  {
   "cell_type": "code",
   "execution_count": 18,
   "id": "41c9c370",
   "metadata": {},
   "outputs": [],
   "source": [
    "torch.save(embeddings, 'data/embeddings/embeddings.pt')"
   ]
  },
  {
   "cell_type": "code",
   "execution_count": null,
   "id": "afa7cf4d",
   "metadata": {},
   "outputs": [],
   "source": [
    "embeddings = torch.load('data/embeddings/embeddings.pt')"
   ]
  },
  {
   "cell_type": "code",
   "execution_count": null,
   "id": "0f181401",
   "metadata": {},
   "outputs": [],
   "source": [
    "clusterizator = KMeansClusterizator(data.get_chunks(), embeddings)\n",
    "clusterizator.clusterize()"
   ]
  },
  {
   "cell_type": "code",
   "execution_count": 20,
   "id": "3338ed65",
   "metadata": {},
   "outputs": [
    {
     "data": {
      "text/plain": [
       "11"
      ]
     },
     "execution_count": 20,
     "metadata": {},
     "output_type": "execute_result"
    }
   ],
   "source": [
    "len(clusterizator.get_clusters_centers())"
   ]
  },
  {
   "cell_type": "code",
   "execution_count": 21,
   "id": "2bca477c",
   "metadata": {},
   "outputs": [],
   "source": [
    "clusterizator.save('data/clusters.pkl')"
   ]
  },
  {
   "cell_type": "code",
   "execution_count": 22,
   "id": "894f12db",
   "metadata": {},
   "outputs": [],
   "source": [
    "clusterizator.load('data/clusters.pkl')"
   ]
  },
  {
   "cell_type": "code",
   "execution_count": 23,
   "id": "098ba576",
   "metadata": {},
   "outputs": [
    {
     "data": {
      "text/plain": [
       "11"
      ]
     },
     "execution_count": 23,
     "metadata": {},
     "output_type": "execute_result"
    }
   ],
   "source": [
    "clusters_samples = clusterizator.get_samples(5)\n",
    "len(clusters_samples)"
   ]
  },
  {
   "cell_type": "code",
   "execution_count": null,
   "id": "b0558491",
   "metadata": {},
   "outputs": [],
   "source": [
    "clusters_summaries = get_cluster_summaries(clusters_samples)"
   ]
  },
  {
   "cell_type": "code",
   "execution_count": null,
   "id": "547816fb",
   "metadata": {},
   "outputs": [],
   "source": [
    "' '.join(list(clusters_samples[0]))"
   ]
  },
  {
   "cell_type": "code",
   "execution_count": null,
   "id": "3c95fef2",
   "metadata": {},
   "outputs": [],
   "source": [
    "clusters_summaries"
   ]
  },
  {
   "cell_type": "code",
   "execution_count": null,
   "id": "ce876bce",
   "metadata": {},
   "outputs": [],
   "source": [
    "clusterizator.get_vectors_by_cluster_id(10)"
   ]
  }
 ],
 "metadata": {
  "kernelspec": {
   "display_name": ".venv",
   "language": "python",
   "name": "python3"
  },
  "language_info": {
   "codemirror_mode": {
    "name": "ipython",
    "version": 3
   },
   "file_extension": ".py",
   "mimetype": "text/x-python",
   "name": "python",
   "nbconvert_exporter": "python",
   "pygments_lexer": "ipython3",
   "version": "3.11.3 (main, Apr  7 2023, 20:13:31) [Clang 14.0.0 (clang-1400.0.29.202)]"
  },
  "vscode": {
   "interpreter": {
    "hash": "8729e6bf2d921914801f88e2bdc93732f2ae6be06dbbadd56f60c1188a046ee7"
   }
  }
 },
 "nbformat": 4,
 "nbformat_minor": 5
}
