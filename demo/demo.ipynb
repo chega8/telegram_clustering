{
 "cells": [
  {
   "cell_type": "code",
   "execution_count": null,
   "id": "a602eaa1",
   "metadata": {},
   "outputs": [],
   "source": [
    "%load_ext autoreload\n",
    "\n",
    "%autoreload 2\n",
    "%cd .."
   ]
  },
  {
   "cell_type": "code",
   "execution_count": 2,
   "id": "31d938a3",
   "metadata": {},
   "outputs": [],
   "source": [
    "import sys\n",
    "\n",
    "sys.path.append('.')"
   ]
  },
  {
   "cell_type": "code",
   "execution_count": 3,
   "id": "8b6c9be0",
   "metadata": {},
   "outputs": [],
   "source": [
    "import torch\n",
    "import pandas as pd\n",
    "import numpy as np"
   ]
  },
  {
   "cell_type": "code",
   "execution_count": 8,
   "id": "2aa4bd9a",
   "metadata": {},
   "outputs": [],
   "source": [
    "from src.data import BaseData, VectorizedData\n",
    "from src.vectorize import get_vectorized_data\n",
    "from src.cluster import KMeansClusterizator\n",
    "from src.summary import get_cluster_summaries"
   ]
  },
  {
   "attachments": {},
   "cell_type": "markdown",
   "id": "6c7285b8",
   "metadata": {},
   "source": [
    "## EDA"
   ]
  },
  {
   "cell_type": "code",
   "execution_count": null,
   "id": "9b958c0b",
   "metadata": {},
   "outputs": [],
   "source": [
    "DATA_PTH = '<DATASET>'\n",
    "data = pd.read_csv(DATA_PTH, sep=';')\n",
    "data.head()"
   ]
  },
  {
   "cell_type": "code",
   "execution_count": 14,
   "id": "b2f64fc7",
   "metadata": {},
   "outputs": [],
   "source": [
    "class Dataset(BaseData):\n",
    "    def __init__(self, source=None) -> None:\n",
    "        super().__init__(source)\n",
    "        self.data = pd.read_csv(DATA_PTH, sep=';')\n",
    "        \n",
    "    def get_chunk(self):\n",
    "        ...\n",
    "        \n",
    "    def get_chunks(self):\n",
    "        return self.data['comment'].values.tolist()"
   ]
  },
  {
   "cell_type": "code",
   "execution_count": 15,
   "id": "30a5a5f3",
   "metadata": {},
   "outputs": [],
   "source": [
    "data = Dataset()"
   ]
  },
  {
   "cell_type": "code",
   "execution_count": 16,
   "id": "7a6a828d",
   "metadata": {},
   "outputs": [
    {
     "data": {
      "text/plain": [
       "300"
      ]
     },
     "execution_count": 16,
     "metadata": {},
     "output_type": "execute_result"
    }
   ],
   "source": [
    "len(data.get_chunks())"
   ]
  },
  {
   "cell_type": "code",
   "execution_count": null,
   "id": "ca07b068",
   "metadata": {},
   "outputs": [],
   "source": [
    "data.get_chunks()[-1]"
   ]
  },
  {
   "cell_type": "code",
   "execution_count": 19,
   "id": "7d295150",
   "metadata": {},
   "outputs": [],
   "source": [
    "vectorized_data = get_vectorized_data(data)"
   ]
  },
  {
   "cell_type": "code",
   "execution_count": 21,
   "id": "41c9c370",
   "metadata": {},
   "outputs": [],
   "source": [
    "vectorized_data.save_embeddings()"
   ]
  },
  {
   "cell_type": "code",
   "execution_count": 22,
   "id": "afa7cf4d",
   "metadata": {},
   "outputs": [],
   "source": [
    "vectorized_data.load_embeddings()"
   ]
  },
  {
   "cell_type": "code",
   "execution_count": 36,
   "id": "0f181401",
   "metadata": {},
   "outputs": [],
   "source": [
    "clusterizator = KMeansClusterizator(vectorized_data)\n",
    "clusterizator.clusterize()"
   ]
  },
  {
   "cell_type": "code",
   "execution_count": 34,
   "id": "3338ed65",
   "metadata": {},
   "outputs": [
    {
     "data": {
      "text/plain": [
       "11"
      ]
     },
     "execution_count": 34,
     "metadata": {},
     "output_type": "execute_result"
    }
   ],
   "source": [
    "len(clusterizator.clusters)"
   ]
  },
  {
   "cell_type": "code",
   "execution_count": null,
   "id": "e23eb188",
   "metadata": {},
   "outputs": [],
   "source": [
    "clusterizator.get_cluster_summaries()"
   ]
  },
  {
   "cell_type": "code",
   "execution_count": 44,
   "id": "2bca477c",
   "metadata": {},
   "outputs": [],
   "source": [
    "clusterizator.save()"
   ]
  },
  {
   "cell_type": "code",
   "execution_count": 42,
   "id": "894f12db",
   "metadata": {},
   "outputs": [],
   "source": [
    "clusterizator.load()"
   ]
  },
  {
   "cell_type": "code",
   "execution_count": null,
   "id": "a4ec6fbc",
   "metadata": {},
   "outputs": [],
   "source": [
    "cluster = clusterizator.get_cluster_by_id(10)\n",
    "cluster.chunks"
   ]
  },
  {
   "cell_type": "code",
   "execution_count": 47,
   "id": "a6c2c282",
   "metadata": {},
   "outputs": [
    {
     "data": {
      "text/plain": [
       "'Где моя посылка?'"
      ]
     },
     "execution_count": 47,
     "metadata": {},
     "output_type": "execute_result"
    }
   ],
   "source": [
    "cluster.summary"
   ]
  },
  {
   "cell_type": "code",
   "execution_count": null,
   "id": "4484d69c",
   "metadata": {},
   "outputs": [],
   "source": []
  },
  {
   "cell_type": "code",
   "execution_count": null,
   "id": "e3175631",
   "metadata": {},
   "outputs": [],
   "source": [
    "import umap\n",
    "from mpl_toolkits.mplot3d import Axes3D\n",
    "import matplotlib.pyplot as plt\n",
    "\n",
    "clusters_dict = {}\n",
    "for i in range(11):\n",
    "    embs = clusterizator.get_cluster_by_id(i).embeddings\n",
    "    clusters_dict[i] = [embs]\n",
    "    \n",
    "umap_3d = umap.UMAP(n_neighbors=5, min_dist=0.3, n_components=3)\n",
    "plt.figure()\n",
    "\n",
    "fig = plt.figure()\n",
    "ax = fig.add_subplot(111, projection='3d')\n",
    "\n",
    "for cluster_label, vectors in clusters_dict.items():\n",
    "    vectors = np.vstack(vectors)\n",
    "    reduced_data = umap_3d.fit_transform(vectors)\n",
    "    ax.scatter(reduced_data[:, 0], reduced_data[:, 1], reduced_data[:, 2], label=cluster_label)\n",
    "\n",
    "plt.title('3D UMAP Visualization')\n",
    "ax.set_xlabel('Dimension 1')\n",
    "ax.set_ylabel('Dimension 2')\n",
    "ax.set_zlabel('Dimension 3')\n",
    "plt.legend(loc='upper left', bbox_to_anchor=(1.05, 1))\n",
    "plt.tight_layout()\n",
    "plt.show()\n"
   ]
  }
 ],
 "metadata": {
  "kernelspec": {
   "display_name": ".venv",
   "language": "python",
   "name": "python3"
  },
  "language_info": {
   "codemirror_mode": {
    "name": "ipython",
    "version": 3
   },
   "file_extension": ".py",
   "mimetype": "text/x-python",
   "name": "python",
   "nbconvert_exporter": "python",
   "pygments_lexer": "ipython3",
   "version": "3.11.3"
  },
  "vscode": {
   "interpreter": {
    "hash": "8729e6bf2d921914801f88e2bdc93732f2ae6be06dbbadd56f60c1188a046ee7"
   }
  }
 },
 "nbformat": 4,
 "nbformat_minor": 5
}
